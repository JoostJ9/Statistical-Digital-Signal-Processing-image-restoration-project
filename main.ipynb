{
 "cells": [
  {
   "cell_type": "markdown",
   "metadata": {},
   "source": [
    "Statistical digital signal processing\n",
    "\n",
    "Image restoration project. \n",
    "\n",
    "By Thomas Prins(studienummer) and Joost Jaspers (5372925)"
   ]
  },
  {
   "cell_type": "code",
   "execution_count": null,
   "metadata": {},
   "outputs": [],
   "source": [
    "import matplotlib.pyplot as plt\n",
    "import scipy.io\n",
    "\n"
   ]
  },
  {
   "cell_type": "code",
   "execution_count": null,
   "metadata": {},
   "outputs": [],
   "source": [
    "# Load the .mat file\n",
    "mat_data = scipy.io.loadmat('img_restoration.mat')\n",
    "\n",
    "# Extract the images\n",
    "I1 = mat_data['I1']\n",
    "I2 = mat_data['I2']\n",
    "\n",
    "# Plotting the images\n",
    "plt.figure(figsize=(10, 5))\n",
    "\n",
    "# Show image 1\n",
    "plt.subplot(1, 2, 1)\n",
    "plt.imshow(I1, cmap='gray')\n",
    "plt.title('Image 1')\n",
    "plt.axis('off')\n",
    "\n",
    "# Show image 2\n",
    "plt.subplot(1, 2, 2)\n",
    "plt.imshow(I2, cmap='gray')\n",
    "plt.title('Image 2')\n",
    "plt.axis('off')\n",
    "\n",
    "# Display the images\n",
    "plt.show()\n"
   ]
  }
 ],
 "metadata": {
  "language_info": {
   "name": "python"
  }
 },
 "nbformat": 4,
 "nbformat_minor": 2
}
